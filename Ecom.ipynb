{
 "cells": [
  {
   "cell_type": "code",
   "execution_count": 21,
   "metadata": {},
   "outputs": [],
   "source": [
    "import pandas as pd"
   ]
  },
  {
   "cell_type": "code",
   "execution_count": null,
   "metadata": {},
   "outputs": [],
   "source": [
    "df = pd.read_csv('Ecommerce Purchases.csv')\n",
    "df"
   ]
  },
  {
   "cell_type": "code",
   "execution_count": null,
   "metadata": {},
   "outputs": [],
   "source": [
    "df.head(10)"
   ]
  },
  {
   "cell_type": "code",
   "execution_count": null,
   "metadata": {},
   "outputs": [],
   "source": [
    "df.tail()"
   ]
  },
  {
   "cell_type": "code",
   "execution_count": null,
   "metadata": {},
   "outputs": [],
   "source": [
    "df.dtypes"
   ]
  },
  {
   "cell_type": "code",
   "execution_count": null,
   "metadata": {},
   "outputs": [],
   "source": [
    "df.isnull().sum()"
   ]
  },
  {
   "cell_type": "code",
   "execution_count": null,
   "metadata": {},
   "outputs": [],
   "source": [
    "print(\"Number of rows =\",df.shape[0])\n",
    "print(\"Number of columns =\",df.shape[1])"
   ]
  },
  {
   "cell_type": "code",
   "execution_count": null,
   "metadata": {},
   "outputs": [],
   "source": [
    "df.columns"
   ]
  },
  {
   "cell_type": "code",
   "execution_count": null,
   "metadata": {},
   "outputs": [],
   "source": [
    "print(\"Max purchase =\", df['Purchase Price'].max())\n",
    "print(\"Min purchase =\", df['Purchase Price'].min())"
   ]
  },
  {
   "cell_type": "code",
   "execution_count": null,
   "metadata": {},
   "outputs": [],
   "source": [
    "print(\"Average Purchase price:\", df['Purchase Price'].mean())"
   ]
  },
  {
   "cell_type": "code",
   "execution_count": null,
   "metadata": {},
   "outputs": [],
   "source": [
    "fr = len(df[df['Language'] == 'fr'])\n",
    "print(fr,\"people chose french language\")"
   ]
  },
  {
   "cell_type": "code",
   "execution_count": null,
   "metadata": {},
   "outputs": [],
   "source": [
    "df[df['Job'].str.contains('engineer', case = False)]"
   ]
  },
  {
   "cell_type": "code",
   "execution_count": null,
   "metadata": {},
   "outputs": [],
   "source": [
    "df[df['IP Address'].str.contains('132.207.160.22')]"
   ]
  },
  {
   "cell_type": "code",
   "execution_count": null,
   "metadata": {},
   "outputs": [],
   "source": [
    "cc =len(df[(df['CC Provider']=='Mastercard') & (df['Purchase Price']>50)])\n",
    "print(cc,\"people did a purchase above 50 with Mastercard\")"
   ]
  },
  {
   "cell_type": "code",
   "execution_count": null,
   "metadata": {},
   "outputs": [],
   "source": [
    "df['Credit Card'].sample()"
   ]
  },
  {
   "cell_type": "code",
   "execution_count": null,
   "metadata": {},
   "outputs": [],
   "source": [
    "mail = df[df['Credit Card'] == 378735916972008]['Email'].iloc[0]\n",
    "print(378735916972008,'credit card is held by', mail)"
   ]
  },
  {
   "cell_type": "code",
   "execution_count": null,
   "metadata": {},
   "outputs": [],
   "source": [
    "am = len(df[df['AM or PM'] == 'AM'])\n",
    "pm = len(df[df['AM or PM'] == 'PM'])\n",
    "tot = am+pm\n",
    "print((am/tot)*100,\"% people did shopping in morning\")\n",
    "print((pm/tot)*100,\"% people did shopping at night\")\n"
   ]
  },
  {
   "cell_type": "code",
   "execution_count": 189,
   "metadata": {},
   "outputs": [],
   "source": [
    "def cc():\n",
    "    count = 0\n",
    "    for date in df['CC Exp Date']:\n",
    "        if date.split('/')[1] == '20':\n",
    "            count += 1\n",
    "    return count"
   ]
  },
  {
   "cell_type": "code",
   "execution_count": null,
   "metadata": {},
   "outputs": [],
   "source": [
    "cr = cc()\n",
    "print(cr,'credit cards had expired in 2020')"
   ]
  },
  {
   "cell_type": "code",
   "execution_count": null,
   "metadata": {},
   "outputs": [],
   "source": [
    "lst = []\n",
    "for email in df['Email']:\n",
    "    lst.append(email.split('@')[1])\n",
    "\n",
    "df['temp'] = lst\n",
    "mail_id = df['temp'].value_counts().head()\n",
    "print(\"Top 5 email service providers are:\")\n",
    "for i in range(5):\n",
    "    print(mail_id.index[i])\n",
    "\n"
   ]
  },
  {
   "cell_type": "code",
   "execution_count": null,
   "metadata": {},
   "outputs": [],
   "source": [
    "df['Email'].apply(lambda x: x.split('@')[1]).value_counts().head()\n",
    "df.columns"
   ]
  },
  {
   "cell_type": "code",
   "execution_count": null,
   "metadata": {},
   "outputs": [],
   "source": [
    "cc = df['CC Provider'].value_counts().index[0]\n",
    "ccc = float(df['CC Provider'].value_counts().max())\n",
    "print(cc,\"Credit Card holders have been most active with %i purchases\" %ccc)\n"
   ]
  },
  {
   "cell_type": "code",
   "execution_count": null,
   "metadata": {},
   "outputs": [],
   "source": [
    "duplicate_emails = df['Email'].value_counts()\n",
    "duplicate_emails = duplicate_emails[duplicate_emails>1]\n",
    "print(len(duplicate_emails),\"people have done purchases 2 times\")"
   ]
  },
  {
   "cell_type": "code",
   "execution_count": null,
   "metadata": {},
   "outputs": [],
   "source": [
    "list1 = df['Language'].value_counts().index[0:5]\n",
    "print(\"Top 5 most used languages for purchasing are:\")\n",
    "for i in range(5):\n",
    "    print(list1[i])"
   ]
  },
  {
   "cell_type": "code",
   "execution_count": null,
   "metadata": {},
   "outputs": [],
   "source": [
    "job_df = df[df['Job'].str.contains('engineer', case = False)]\n",
    "job_df = job_df['Job'].value_counts()\n",
    "job_df = job_df[job_df == 25]\n",
    "val = job_df.max()\n",
    "print(job_df.index[0],\"&\",job_df.index[1],'have done most purchases with',val,'purchases each')"
   ]
  },
  {
   "cell_type": "code",
   "execution_count": 291,
   "metadata": {},
   "outputs": [
    {
     "name": "stdout",
     "output_type": "stream",
     "text": [
      "8287 browsers were used for purchase\n"
     ]
    },
    {
     "data": {
      "text/plain": [
       "'Mozilla/5.0 (compatible; MSIE 8.0; Windows NT 6.2; Trident/3.1)'"
      ]
     },
     "execution_count": 291,
     "metadata": {},
     "output_type": "execute_result"
    }
   ],
   "source": [
    "print(len(df['Browser Info'].unique()),'browsers were used for purchase')\n",
    "browser = df['Browser Info'].value_counts()\n",
    "browser.index[0]\n"
   ]
  },
  {
   "cell_type": "code",
   "execution_count": 295,
   "metadata": {},
   "outputs": [
    {
     "name": "stdout",
     "output_type": "stream",
     "text": [
      "Mozilla/5.0 (compatible; MSIE 8.0; Windows NT 6.2; Trident/3.1) was used most for purchase 12 times\n",
      "Max purchase by the browser was: 91.02\n",
      "Average purchase by the browser was: 43.50666666666666\n"
     ]
    }
   ],
   "source": [
    "df_bi = df.groupby('Browser Info')\n",
    "max_b = df_bi.get_group(browser.index[0])['Purchase Price'].max()\n",
    "mean_b = df_bi.get_group(browser.index[0])['Purchase Price'].mean()\n",
    "print(browser.index[0],\"was used most for purchase\",browser.max(),'times')\n",
    "print(\"Max purchase by the browser was:\",max_b)\n",
    "print(\"Average purchase by the browser was:\",mean_b)\n"
   ]
  }
 ],
 "metadata": {
  "kernelspec": {
   "display_name": "Python 3",
   "language": "python",
   "name": "python3"
  },
  "language_info": {
   "codemirror_mode": {
    "name": "ipython",
    "version": 3
   },
   "file_extension": ".py",
   "mimetype": "text/x-python",
   "name": "python",
   "nbconvert_exporter": "python",
   "pygments_lexer": "ipython3",
   "version": "3.13.0"
  }
 },
 "nbformat": 4,
 "nbformat_minor": 2
}
